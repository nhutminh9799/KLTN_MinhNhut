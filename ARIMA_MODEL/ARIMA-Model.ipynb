{
 "cells": [
  {
   "cell_type": "code",
   "execution_count": 1,
   "metadata": {},
   "outputs": [],
   "source": [
    "#Tài liệu tham khảo: https://phamdinhkhanh.github.io/2019/12/12/ARIMAmodel.html"
   ]
  },
  {
   "cell_type": "markdown",
   "metadata": {},
   "source": [
    "## 1. Lý thuyết mô hình ARIMA\n"
   ]
  },
  {
   "cell_type": "markdown",
   "metadata": {},
   "source": [
    "- Dựa vào dữ liệu quá khứ dựa trên các giả định có thể lặp lại ở tương lai\n",
    "- Các yếu tố thường thấy trong chuỗi thời gian: Tính mùa vụ, tính chu kỳ, tính xu thế\n",
    "- Các mô hình dự báo trong kinh tế lượng có những đặc trưng rất riêng như ARIMA, SARIMA, ARIMAX,... "
   ]
  },
  {
   "cell_type": "markdown",
   "metadata": {},
   "source": [
    "### 1.1 ***Mô hình ARIMA***: \n",
    "+ Dựa vào lý thuyết chuỗi dừng và phương sai không đổi. \n",
    "        - Nó bao gồm chuỗi tự hồi quy AR(p)\n",
    "        - Chuỗi trung bình trượt MA(q)\n",
    "+ Hầu hết các chuỗi thời gian sẽ có xu hướng tăng hoặc giảm theo thời gian, do đó yếu tố chuỗi dừng thường không đạt   được. Trong trường hợp chuỗi không dừng thì ta sẽ cần biến đổi sang chuỗi dừng bằng sai phân\n",
    "+ Khi đó tham số của mô hình sẽ thêm phần sai phân"
   ]
  },
  {
   "cell_type": "markdown",
   "metadata": {},
   "source": [
    "### 1.2 Mô hình SARIMA"
   ]
  },
  {
   "cell_type": "markdown",
   "metadata": {},
   "source": [
    "+ Về bản chất đây là mô hình ARIMA nhưng được điều chỉnh đặc biệt để áp dụng cho những chuỗi thời gian có yếu tố mùa vụ. Như chúng ta đã biết về bản chất ARIMA chính là mô hình hồi qui tuyến tính nhưng mối quan hệ tuyến tính thường không giải thích tốt chuỗi trong trường hợp chuỗi xuất hiện yếu tố mùa vụ. Chính vì thế, bằng cách tìm ra chu kì của qui luật mùa vụ và loại bỏ nó khỏi chuỗi ta sẽ dễ dàng hồi qui mô hình theo phương pháp ARIMA."
   ]
  },
  {
   "cell_type": "markdown",
   "metadata": {},
   "source": [
    "## 2. Thực hành"
   ]
  },
  {
   "cell_type": "markdown",
   "metadata": {},
   "source": [
    "### 2.1 Chuẩn bị thư viện và dữ liệu"
   ]
  },
  {
   "cell_type": "code",
   "execution_count": 1,
   "metadata": {},
   "outputs": [],
   "source": [
    "import numpy as np\n",
    "import pandas as pd\n",
    "import matplotlib.pyplot as plt\n",
    "%matplotlib inline\n",
    "from statsmodels.tsa.arima_model import ARIMA\n",
    "from sklearn.metrics import mean_squared_error\n",
    "from statsmodels.tsa.stattools import adfuller"
   ]
  },
  {
   "cell_type": "code",
   "execution_count": 3,
   "metadata": {},
   "outputs": [
    {
     "data": {
      "text/html": [
       "<div>\n",
       "<style scoped>\n",
       "    .dataframe tbody tr th:only-of-type {\n",
       "        vertical-align: middle;\n",
       "    }\n",
       "\n",
       "    .dataframe tbody tr th {\n",
       "        vertical-align: top;\n",
       "    }\n",
       "\n",
       "    .dataframe thead th {\n",
       "        text-align: right;\n",
       "    }\n",
       "</style>\n",
       "<table border=\"1\" class=\"dataframe\">\n",
       "  <thead>\n",
       "    <tr style=\"text-align: right;\">\n",
       "      <th></th>\n",
       "      <th>Date</th>\n",
       "      <th>Closing_Price</th>\n",
       "    </tr>\n",
       "  </thead>\n",
       "  <tbody>\n",
       "    <tr>\n",
       "      <th>0</th>\n",
       "      <td>2020-05-21</td>\n",
       "      <td>0.954089</td>\n",
       "    </tr>\n",
       "    <tr>\n",
       "      <th>1</th>\n",
       "      <td>2020-05-22</td>\n",
       "      <td>0.914115</td>\n",
       "    </tr>\n",
       "    <tr>\n",
       "      <th>2</th>\n",
       "      <td>2020-05-23</td>\n",
       "      <td>0.919285</td>\n",
       "    </tr>\n",
       "    <tr>\n",
       "      <th>3</th>\n",
       "      <td>2020-05-24</td>\n",
       "      <td>0.922008</td>\n",
       "    </tr>\n",
       "    <tr>\n",
       "      <th>4</th>\n",
       "      <td>2020-05-25</td>\n",
       "      <td>0.904872</td>\n",
       "    </tr>\n",
       "    <tr>\n",
       "      <th>...</th>\n",
       "      <td>...</td>\n",
       "      <td>...</td>\n",
       "    </tr>\n",
       "    <tr>\n",
       "      <th>362</th>\n",
       "      <td>2021-05-18</td>\n",
       "      <td>4.314447</td>\n",
       "    </tr>\n",
       "    <tr>\n",
       "      <th>363</th>\n",
       "      <td>2021-05-19</td>\n",
       "      <td>4.319605</td>\n",
       "    </tr>\n",
       "    <tr>\n",
       "      <th>364</th>\n",
       "      <td>2021-05-20</td>\n",
       "      <td>3.943924</td>\n",
       "    </tr>\n",
       "    <tr>\n",
       "      <th>365</th>\n",
       "      <td>2021-05-21</td>\n",
       "      <td>3.975609</td>\n",
       "    </tr>\n",
       "    <tr>\n",
       "      <th>366</th>\n",
       "      <td>2021-05-22</td>\n",
       "      <td>3.692177</td>\n",
       "    </tr>\n",
       "  </tbody>\n",
       "</table>\n",
       "<p>367 rows × 2 columns</p>\n",
       "</div>"
      ],
      "text/plain": [
       "           Date  Closing_Price\n",
       "0    2020-05-21       0.954089\n",
       "1    2020-05-22       0.914115\n",
       "2    2020-05-23       0.919285\n",
       "3    2020-05-24       0.922008\n",
       "4    2020-05-25       0.904872\n",
       "..          ...            ...\n",
       "362  2021-05-18       4.314447\n",
       "363  2021-05-19       4.319605\n",
       "364  2021-05-20       3.943924\n",
       "365  2021-05-21       3.975609\n",
       "366  2021-05-22       3.692177\n",
       "\n",
       "[367 rows x 2 columns]"
      ]
     },
     "execution_count": 3,
     "metadata": {},
     "output_type": "execute_result"
    }
   ],
   "source": [
    "df = pd.read_csv('BTC_CSV5.csv')\n",
    "df.pop('Currency')\n",
    "df.pop('24h Open (USD)')\n",
    "df.pop('24h High (USD)')\n",
    "df.pop('24h Low (USD)')\n",
    "df.pop('Closing Price (USD)')\n",
    "df"
   ]
  },
  {
   "cell_type": "markdown",
   "metadata": {},
   "source": [
    "**Import dữ liệu và loại bỏ những trường không cần thiết**"
   ]
  },
  {
   "cell_type": "markdown",
   "metadata": {},
   "source": [
    "**Lấy cột Date làm cột Index**"
   ]
  },
  {
   "cell_type": "code",
   "execution_count": 4,
   "metadata": {},
   "outputs": [],
   "source": [
    "df['Date'] = pd.to_datetime(df['Date'])\n",
    "df.set_index(\"Date\",inplace=True)"
   ]
  },
  {
   "cell_type": "code",
   "execution_count": 5,
   "metadata": {},
   "outputs": [
    {
     "data": {
      "text/html": [
       "<div>\n",
       "<style scoped>\n",
       "    .dataframe tbody tr th:only-of-type {\n",
       "        vertical-align: middle;\n",
       "    }\n",
       "\n",
       "    .dataframe tbody tr th {\n",
       "        vertical-align: top;\n",
       "    }\n",
       "\n",
       "    .dataframe thead th {\n",
       "        text-align: right;\n",
       "    }\n",
       "</style>\n",
       "<table border=\"1\" class=\"dataframe\">\n",
       "  <thead>\n",
       "    <tr style=\"text-align: right;\">\n",
       "      <th></th>\n",
       "      <th>Closing_Price</th>\n",
       "    </tr>\n",
       "    <tr>\n",
       "      <th>Date</th>\n",
       "      <th></th>\n",
       "    </tr>\n",
       "  </thead>\n",
       "  <tbody>\n",
       "    <tr>\n",
       "      <th>2020-05-21</th>\n",
       "      <td>0.954089</td>\n",
       "    </tr>\n",
       "    <tr>\n",
       "      <th>2020-05-22</th>\n",
       "      <td>0.914115</td>\n",
       "    </tr>\n",
       "    <tr>\n",
       "      <th>2020-05-23</th>\n",
       "      <td>0.919285</td>\n",
       "    </tr>\n",
       "    <tr>\n",
       "      <th>2020-05-24</th>\n",
       "      <td>0.922008</td>\n",
       "    </tr>\n",
       "    <tr>\n",
       "      <th>2020-05-25</th>\n",
       "      <td>0.904872</td>\n",
       "    </tr>\n",
       "    <tr>\n",
       "      <th>...</th>\n",
       "      <td>...</td>\n",
       "    </tr>\n",
       "    <tr>\n",
       "      <th>2021-05-18</th>\n",
       "      <td>4.314447</td>\n",
       "    </tr>\n",
       "    <tr>\n",
       "      <th>2021-05-19</th>\n",
       "      <td>4.319605</td>\n",
       "    </tr>\n",
       "    <tr>\n",
       "      <th>2021-05-20</th>\n",
       "      <td>3.943924</td>\n",
       "    </tr>\n",
       "    <tr>\n",
       "      <th>2021-05-21</th>\n",
       "      <td>3.975609</td>\n",
       "    </tr>\n",
       "    <tr>\n",
       "      <th>2021-05-22</th>\n",
       "      <td>3.692177</td>\n",
       "    </tr>\n",
       "  </tbody>\n",
       "</table>\n",
       "<p>367 rows × 1 columns</p>\n",
       "</div>"
      ],
      "text/plain": [
       "            Closing_Price\n",
       "Date                     \n",
       "2020-05-21       0.954089\n",
       "2020-05-22       0.914115\n",
       "2020-05-23       0.919285\n",
       "2020-05-24       0.922008\n",
       "2020-05-25       0.904872\n",
       "...                   ...\n",
       "2021-05-18       4.314447\n",
       "2021-05-19       4.319605\n",
       "2021-05-20       3.943924\n",
       "2021-05-21       3.975609\n",
       "2021-05-22       3.692177\n",
       "\n",
       "[367 rows x 1 columns]"
      ]
     },
     "execution_count": 5,
     "metadata": {},
     "output_type": "execute_result"
    }
   ],
   "source": [
    "df"
   ]
  },
  {
   "cell_type": "markdown",
   "metadata": {},
   "source": [
    "**Vẽ đồ thị minh họa**"
   ]
  },
  {
   "cell_type": "code",
   "execution_count": 6,
   "metadata": {},
   "outputs": [
    {
     "data": {
      "image/png": "[encoded data removed]",
      "text/plain": [
       "<Figure size 1080x720 with 1 Axes>"
      ]
     },
     "metadata": {
      "needs_background": "light"
     },
     "output_type": "display_data"
    }
   ],
   "source": [
    "df['Closing_Price'].plot(kind='line',figsize=(15, 10))\n",
    "\n",
    "plt.show()"
   ]
  },
  {
   "cell_type": "markdown",
   "metadata": {},
   "source": [
    "=> Nhìn vào đồ thị ta thấy giá BTC từ tháng 1 đến tháng 11 năm 2020 tăng giảm những không đồng đều\n",
    "\n",
    "=> Từ tháng 12 năm 2020 đến tháng 4 năm 2021 giá BTC tăng mạnh, đến cuối tháng 5 thì giá BTC giảm sâu.\n",
    "\n",
    "=> Đều này cho biết 1 điều đồ thị là một chuỗi không dừng "
   ]
  },
  {
   "cell_type": "markdown",
   "metadata": {},
   "source": [
    "**Chia Train/Test**"
   ]
  },
  {
   "cell_type": "code",
   "execution_count": 7,
   "metadata": {},
   "outputs": [
    {
     "name": "stdout",
     "output_type": "stream",
     "text": [
      "train shape:  (225, 1)\n",
      "test shape:  (142, 1)\n"
     ]
    }
   ],
   "source": [
    "train, test = df[df.index < '2021-01-01'], df[df.index >= '2021-01-01']\n",
    "print('train shape: ', train.shape)\n",
    "print('test shape: ', test.shape)"
   ]
  },
  {
   "cell_type": "markdown",
   "metadata": {},
   "source": [
    "### 2.2 Kiểm tra tính dừng của chuỗi thời gian và đưa về chuỗi dừng"
   ]
  },
  {
   "cell_type": "markdown",
   "metadata": {},
   "source": [
    "- Một chuỗi thời gian có tính dừng là một chuỗi thời gian có trung bình, phương sai, hiệp phương sai không đổi theo thời gian"
   ]
  },
  {
   "cell_type": "markdown",
   "metadata": {},
   "source": [
    "![\"Chuoi Dung, Chuoi Khong Dung\"](https://miro.medium.com/max/1147/1*xdblkZyg6YmmReAkZHUksw.png)"
   ]
  },
  {
   "cell_type": "markdown",
   "metadata": {},
   "source": [
    "- Chuỗi thời gian có tính xu thế thì ta không biết xu thế là gì để chúng ta dự báo đây là yếu tố ngẫu nhiên"
   ]
  },
  {
   "cell_type": "markdown",
   "metadata": {},
   "source": [
    "- Kiểm tra chuỗi dừng"
   ]
  },
  {
   "cell_type": "code",
   "execution_count": 8,
   "metadata": {},
   "outputs": [
    {
     "name": "stdout",
     "output_type": "stream",
     "text": [
      "p-value: 1.0\n"
     ]
    }
   ],
   "source": [
    "print(\"p-value:\", adfuller(train.dropna())[1])"
   ]
  },
  {
   "cell_type": "code",
   "execution_count": 9,
   "metadata": {},
   "outputs": [],
   "source": [
    "#Link tham khảo: https://www.youtube.com/watch?v=1opjnegd_hA"
   ]
  },
  {
   "cell_type": "markdown",
   "metadata": {},
   "source": [
    "- Vì p-value > 0.05 nên chuỗi thời gian là không dừng"
   ]
  },
  {
   "cell_type": "markdown",
   "metadata": {},
   "source": [
    "- Đưa về chuỗi dừng"
   ]
  },
  {
   "cell_type": "code",
   "execution_count": 10,
   "metadata": {},
   "outputs": [
    {
     "name": "stdout",
     "output_type": "stream",
     "text": [
      "p-value: 5.314274119928386e-24\n"
     ]
    }
   ],
   "source": [
    "diff_1 = train.diff().dropna()\n",
    "print(\"p-value:\", adfuller(diff_1.dropna())[1])"
   ]
  },
  {
   "cell_type": "code",
   "execution_count": 11,
   "metadata": {},
   "outputs": [
    {
     "data": {
      "text/html": [
       "<div>\n",
       "<style scoped>\n",
       "    .dataframe tbody tr th:only-of-type {\n",
       "        vertical-align: middle;\n",
       "    }\n",
       "\n",
       "    .dataframe tbody tr th {\n",
       "        vertical-align: top;\n",
       "    }\n",
       "\n",
       "    .dataframe thead th {\n",
       "        text-align: right;\n",
       "    }\n",
       "</style>\n",
       "<table border=\"1\" class=\"dataframe\">\n",
       "  <thead>\n",
       "    <tr style=\"text-align: right;\">\n",
       "      <th></th>\n",
       "      <th>Closing_Price</th>\n",
       "    </tr>\n",
       "    <tr>\n",
       "      <th>Date</th>\n",
       "      <th></th>\n",
       "    </tr>\n",
       "  </thead>\n",
       "  <tbody>\n",
       "    <tr>\n",
       "      <th>2020-05-22</th>\n",
       "      <td>-0.039974</td>\n",
       "    </tr>\n",
       "    <tr>\n",
       "      <th>2020-05-23</th>\n",
       "      <td>0.005169</td>\n",
       "    </tr>\n",
       "    <tr>\n",
       "      <th>2020-05-24</th>\n",
       "      <td>0.002723</td>\n",
       "    </tr>\n",
       "    <tr>\n",
       "      <th>2020-05-25</th>\n",
       "      <td>-0.017136</td>\n",
       "    </tr>\n",
       "    <tr>\n",
       "      <th>2020-05-26</th>\n",
       "      <td>-0.014293</td>\n",
       "    </tr>\n",
       "    <tr>\n",
       "      <th>...</th>\n",
       "      <td>...</td>\n",
       "    </tr>\n",
       "    <tr>\n",
       "      <th>2020-12-27</th>\n",
       "      <td>0.180029</td>\n",
       "    </tr>\n",
       "    <tr>\n",
       "      <th>2020-12-28</th>\n",
       "      <td>0.000799</td>\n",
       "    </tr>\n",
       "    <tr>\n",
       "      <th>2020-12-29</th>\n",
       "      <td>0.032874</td>\n",
       "    </tr>\n",
       "    <tr>\n",
       "      <th>2020-12-30</th>\n",
       "      <td>0.025770</td>\n",
       "    </tr>\n",
       "    <tr>\n",
       "      <th>2020-12-31</th>\n",
       "      <td>0.179311</td>\n",
       "    </tr>\n",
       "  </tbody>\n",
       "</table>\n",
       "<p>224 rows × 1 columns</p>\n",
       "</div>"
      ],
      "text/plain": [
       "            Closing_Price\n",
       "Date                     \n",
       "2020-05-22      -0.039974\n",
       "2020-05-23       0.005169\n",
       "2020-05-24       0.002723\n",
       "2020-05-25      -0.017136\n",
       "2020-05-26      -0.014293\n",
       "...                   ...\n",
       "2020-12-27       0.180029\n",
       "2020-12-28       0.000799\n",
       "2020-12-29       0.032874\n",
       "2020-12-30       0.025770\n",
       "2020-12-31       0.179311\n",
       "\n",
       "[224 rows x 1 columns]"
      ]
     },
     "execution_count": 11,
     "metadata": {},
     "output_type": "execute_result"
    }
   ],
   "source": [
    "diff_1"
   ]
  },
  {
   "cell_type": "markdown",
   "metadata": {},
   "source": [
    "### 2.3 Thực hiện Mô Hình ARIMA"
   ]
  },
  {
   "cell_type": "code",
   "execution_count": 12,
   "metadata": {},
   "outputs": [],
   "source": [
    "import pmdarima as pmd\n",
    "\n",
    "def arimamodel(timeseriesarray):\n",
    "    autoarima_model = pmd.auto_arima(timeseriesarray, \n",
    "                              start_p=1, \n",
    "                              start_q=1,\n",
    "                              test=\"adf\",\n",
    "                              trace=True)\n",
    "    return autoarima_model"
   ]
  },
  {
   "cell_type": "code",
   "execution_count": 13,
   "metadata": {},
   "outputs": [
    {
     "name": "stdout",
     "output_type": "stream",
     "text": [
      "Performing stepwise search to minimize aic\n",
      " ARIMA(1,1,1)(0,0,0)[0] intercept   : AIC=-797.404, Time=0.98 sec\n",
      " ARIMA(0,1,0)(0,0,0)[0] intercept   : AIC=-793.785, Time=0.09 sec\n",
      " ARIMA(1,1,0)(0,0,0)[0] intercept   : AIC=-794.158, Time=0.23 sec\n",
      " ARIMA(0,1,1)(0,0,0)[0] intercept   : AIC=-793.914, Time=0.06 sec\n",
      " ARIMA(0,1,0)(0,0,0)[0]             : AIC=-786.071, Time=0.01 sec\n",
      " ARIMA(2,1,1)(0,0,0)[0] intercept   : AIC=-791.051, Time=0.16 sec\n",
      " ARIMA(1,1,2)(0,0,0)[0] intercept   : AIC=-794.529, Time=0.97 sec\n",
      " ARIMA(0,1,2)(0,0,0)[0] intercept   : AIC=-792.632, Time=0.73 sec\n",
      " ARIMA(2,1,0)(0,0,0)[0] intercept   : AIC=-792.788, Time=0.04 sec\n",
      " ARIMA(2,1,2)(0,0,0)[0] intercept   : AIC=-793.197, Time=0.65 sec\n",
      " ARIMA(1,1,1)(0,0,0)[0]             : AIC=-798.305, Time=0.29 sec\n",
      " ARIMA(0,1,1)(0,0,0)[0]             : AIC=-787.819, Time=0.14 sec\n",
      " ARIMA(1,1,0)(0,0,0)[0]             : AIC=-788.485, Time=0.10 sec\n",
      " ARIMA(2,1,1)(0,0,0)[0]             : AIC=-796.626, Time=0.30 sec\n",
      " ARIMA(1,1,2)(0,0,0)[0]             : AIC=-796.627, Time=0.31 sec\n",
      " ARIMA(0,1,2)(0,0,0)[0]             : AIC=-787.413, Time=0.09 sec\n",
      " ARIMA(2,1,0)(0,0,0)[0]             : AIC=-788.054, Time=0.03 sec\n",
      " ARIMA(2,1,2)(0,0,0)[0]             : AIC=-794.555, Time=0.39 sec\n",
      "\n",
      "Best model:  ARIMA(1,1,1)(0,0,0)[0]          \n",
      "Total fit time: 5.636 seconds\n"
     ]
    },
    {
     "data": {
      "text/html": [
       "<table class=\"simpletable\">\n",
       "<caption>SARIMAX Results</caption>\n",
       "<tr>\n",
       "  <th>Dep. Variable:</th>           <td>y</td>        <th>  No. Observations:  </th>    <td>225</td>  \n",
       "</tr>\n",
       "<tr>\n",
       "  <th>Model:</th>           <td>SARIMAX(1, 1, 1)</td> <th>  Log Likelihood     </th>  <td>402.152</td>\n",
       "</tr>\n",
       "<tr>\n",
       "  <th>Date:</th>            <td>Mon, 31 May 2021</td> <th>  AIC                </th> <td>-798.305</td>\n",
       "</tr>\n",
       "<tr>\n",
       "  <th>Time:</th>                <td>10:50:55</td>     <th>  BIC                </th> <td>-788.070</td>\n",
       "</tr>\n",
       "<tr>\n",
       "  <th>Sample:</th>                  <td>0</td>        <th>  HQIC               </th> <td>-794.174</td>\n",
       "</tr>\n",
       "<tr>\n",
       "  <th></th>                      <td> - 225</td>      <th>                     </th>     <td> </td>   \n",
       "</tr>\n",
       "<tr>\n",
       "  <th>Covariance Type:</th>        <td>opg</td>       <th>                     </th>     <td> </td>   \n",
       "</tr>\n",
       "</table>\n",
       "<table class=\"simpletable\">\n",
       "<tr>\n",
       "     <td></td>       <th>coef</th>     <th>std err</th>      <th>z</th>      <th>P>|z|</th>  <th>[0.025</th>    <th>0.975]</th>  \n",
       "</tr>\n",
       "<tr>\n",
       "  <th>ar.L1</th>  <td>    0.9949</td> <td>    0.022</td> <td>   45.694</td> <td> 0.000</td> <td>    0.952</td> <td>    1.038</td>\n",
       "</tr>\n",
       "<tr>\n",
       "  <th>ma.L1</th>  <td>   -0.9473</td> <td>    0.047</td> <td>  -20.209</td> <td> 0.000</td> <td>   -1.039</td> <td>   -0.855</td>\n",
       "</tr>\n",
       "<tr>\n",
       "  <th>sigma2</th> <td>    0.0016</td> <td> 8.77e-05</td> <td>   18.318</td> <td> 0.000</td> <td>    0.001</td> <td>    0.002</td>\n",
       "</tr>\n",
       "</table>\n",
       "<table class=\"simpletable\">\n",
       "<tr>\n",
       "  <th>Ljung-Box (L1) (Q):</th>     <td>0.16</td> <th>  Jarque-Bera (JB):  </th> <td>262.00</td>\n",
       "</tr>\n",
       "<tr>\n",
       "  <th>Prob(Q):</th>                <td>0.69</td> <th>  Prob(JB):          </th>  <td>0.00</td> \n",
       "</tr>\n",
       "<tr>\n",
       "  <th>Heteroskedasticity (H):</th> <td>4.71</td> <th>  Skew:              </th>  <td>0.87</td> \n",
       "</tr>\n",
       "<tr>\n",
       "  <th>Prob(H) (two-sided):</th>    <td>0.00</td> <th>  Kurtosis:          </th>  <td>8.01</td> \n",
       "</tr>\n",
       "</table><br/><br/>Warnings:<br/>[1] Covariance matrix calculated using the outer product of gradients (complex-step)."
      ],
      "text/plain": [
       "<class 'statsmodels.iolib.summary.Summary'>\n",
       "\"\"\"\n",
       "                               SARIMAX Results                                \n",
       "==============================================================================\n",
       "Dep. Variable:                      y   No. Observations:                  225\n",
       "Model:               SARIMAX(1, 1, 1)   Log Likelihood                 402.152\n",
       "Date:                Mon, 31 May 2021   AIC                           -798.305\n",
       "Time:                        10:50:55   BIC                           -788.070\n",
       "Sample:                             0   HQIC                          -794.174\n",
       "                                - 225                                         \n",
       "Covariance Type:                  opg                                         \n",
       "==============================================================================\n",
       "                 coef    std err          z      P>|z|      [0.025      0.975]\n",
       "------------------------------------------------------------------------------\n",
       "ar.L1          0.9949      0.022     45.694      0.000       0.952       1.038\n",
       "ma.L1         -0.9473      0.047    -20.209      0.000      -1.039      -0.855\n",
       "sigma2         0.0016   8.77e-05     18.318      0.000       0.001       0.002\n",
       "===================================================================================\n",
       "Ljung-Box (L1) (Q):                   0.16   Jarque-Bera (JB):               262.00\n",
       "Prob(Q):                              0.69   Prob(JB):                         0.00\n",
       "Heteroskedasticity (H):               4.71   Skew:                             0.87\n",
       "Prob(H) (two-sided):                  0.00   Kurtosis:                         8.01\n",
       "===================================================================================\n",
       "\n",
       "Warnings:\n",
       "[1] Covariance matrix calculated using the outer product of gradients (complex-step).\n",
       "\"\"\""
      ]
     },
     "execution_count": 13,
     "metadata": {},
     "output_type": "execute_result"
    }
   ],
   "source": [
    "arima_model = arimamodel(train)\n",
    "arima_model.summary()"
   ]
  },
  {
   "cell_type": "markdown",
   "metadata": {},
   "source": [
    "=> Theo Formula ARIMA nếu mô hình nào có AIC nhỏ nhất và tốc độ thực hiện nhanh nhất thì chọn mô hình đó"
   ]
  },
  {
   "cell_type": "markdown",
   "metadata": {},
   "source": [
    "**Chỉ số AIC** \n"
   ]
  },
  {
   "cell_type": "markdown",
   "metadata": {},
   "source": [
    "Một trong những tiêu chí thường được sử dụng để lựa chọn mô hình đó là chỉ số AIC (Akaike Information Criteria). Tiêu chí thông tin này là một công cụ ước tính lỗi dự báo và do đó đánh giá chất lượng tương đối của các mô hình thống kê trên một tập hợp dữ liệu nhất định. Gỉa sử có một tập hợp các mô hình được xây dựng trên cùng một bộ dữ liệu, AIC ước tính chất lượng của từng mô hình trong mối liên quan đến từng mô hình khác. Do đó, AIC cung cấp một phương tiện để lựa chọn mô hình. AIC được hình thành dựa trên lý thuyết thông tin (information theory). Khi một mô hình thống kê được sử dụng để dự báo, kết quả sẽ gần như không bao giờ chính xác hoàn toàn. Vì vậy một số thông tin sẽ bị mất do không thể dự báo từ mô hình. AIC ước tính lượng thông tin tương đối bị mất bởi một mô hình nhất định: mô hình mất càng ít thông tin thì chất lượng của mô hình đó càng cao. Giả sử rằng chúng ta có một mô hình thống kê tương ứng với một bộ dữ liệu. Gọi  là số lượng tham số ước tính trong mô hình. Đặt \n",
    " là giá trị tối đa của hàm hợp lý (maximum likelihood function) của mô hình. "
   ]
  },
  {
   "cell_type": "markdown",
   "metadata": {},
   "source": [
    "$AIC= $$2k-$$2ln(L)$"
   ]
  },
  {
   "cell_type": "code",
   "execution_count": 25,
   "metadata": {},
   "outputs": [],
   "source": [
    "#Tài liệu tham khảo: https://luanvanhay.org/huong-dan/r-cach-tinh-loglikelihood-aic-bic/\n",
    "# Tham khảo: https://viblo.asia/p/so-luoc-ve-maximum-likelihood-estimation-1Je5EvrYKnL"
   ]
  },
  {
   "cell_type": "markdown",
   "metadata": {},
   "source": [
    "Thực ra,  LogLikelihood = ln(Likelihood). Nên trong ví dụ này chúng ta nói là LogLikelihood hay Likelihood cũng được.\n",
    "\n",
    "Trong thống kê , hàm Likelihood (thường được gọi đơn giản là khả năng, một số nơi gọi là ước lượng hợp lí ) đo lường mức độ phù hợp của mô hình thống kê với một mẫu dữ liệu cho các giá trị đã cho của các tham số chưa biết . Nó được hình thành từ phân phối xác suất chung của mẫu, nhưng chỉ được xem và sử dụng như một hàm của các tham số, do đó xử lý các biến ngẫu nhiên là cố định tại các giá trị quan sát được.\n",
    "\n",
    "Hàm LogLikelihood  mô tả một siêu mặt có đỉnh, nếu nó tồn tại, biểu thị sự kết hợp của các giá trị tham số mô hình nhằm tối đa hóa xác suất vẽ mẫu thu được.  Quy trình lấy các đối số này của ước lượng hợp lí cực đại  tối đa được gọi là ước lượng khả năng tối đa , để thuận tiện cho việc tính toán thường được thực hiện bằng cách sử dụng logarit tự nhiên của khả năng, được gọi là hàm khả năng log . Ngoài ra, hình dạng và độ cong của bề mặt khả năng thể hiện thông tin về độ ổn định của các ước tính, đó là lý do tại sao hàm khả năng thường được vẽ như là một phần của phân tích thống kê.\n",
    "\n",
    "Trường hợp sử dụng khả năng lần đầu tiên được thực hiện bởi RA Fisher ,  người tin rằng đây là một khuôn khổ khép kín cho mô hình thống kê và suy luận. Sau đó, Barnard và Birnbaum đã lãnh đạo một trường phái tư tưởng ủng hộ nguyên tắc khả năng , quy định rằng tất cả các thông tin liên quan để suy luận được chứa trong hàm khả năng. Nhưng ngay cả trong thống kê thường xuyên và Bayes , chức năng khả năng đóng vai trò cơ bản\n",
    "\n",
    "Công thức để tính Likelihood bằng tay là quá phực tạp, tuỳ từng model mà có cách tính khác nhau, trong ví dụ này chúng tôi hướng dẫn dẫn các bạn dùng hàm logLik() trong R cách tính LogLikelihood tương đối đơn giản và nhanh chóng."
   ]
  },
  {
   "cell_type": "markdown",
   "metadata": {},
   "source": [
    "### 2.4 Đánh giá mô hình ARIMA"
   ]
  },
  {
   "cell_type": "code",
   "execution_count": 15,
   "metadata": {},
   "outputs": [],
   "source": [
    "def mean_absolute_percentage_error(y_true, y_pred): \n",
    "    y_true, y_pred = np.array(y_true), np.array(y_pred)\n",
    "    return np.mean(np.abs((y_true - y_pred) / y_true)) * 100"
   ]
  },
  {
   "cell_type": "code",
   "execution_count": 16,
   "metadata": {},
   "outputs": [
    {
     "name": "stderr",
     "output_type": "stream",
     "text": [
      "<ipython-input-16-a1d8570d7eba>:1: SettingWithCopyWarning: \n",
      "A value is trying to be set on a copy of a slice from a DataFrame.\n",
      "Try using .loc[row_indexer,col_indexer] = value instead\n",
      "\n",
      "See the caveats in the documentation: https://pandas.pydata.org/pandas-docs/stable/user_guide/indexing.html#returning-a-view-versus-a-copy\n",
      "  test['ARIMA'] = arima_model.predict(len(test))\n"
     ]
    },
    {
     "data": {
      "text/html": [
       "<div>\n",
       "<style scoped>\n",
       "    .dataframe tbody tr th:only-of-type {\n",
       "        vertical-align: middle;\n",
       "    }\n",
       "\n",
       "    .dataframe tbody tr th {\n",
       "        vertical-align: top;\n",
       "    }\n",
       "\n",
       "    .dataframe thead th {\n",
       "        text-align: right;\n",
       "    }\n",
       "</style>\n",
       "<table border=\"1\" class=\"dataframe\">\n",
       "  <thead>\n",
       "    <tr style=\"text-align: right;\">\n",
       "      <th></th>\n",
       "      <th>Closing_Price</th>\n",
       "      <th>ARIMA</th>\n",
       "    </tr>\n",
       "    <tr>\n",
       "      <th>Date</th>\n",
       "      <th></th>\n",
       "      <th></th>\n",
       "    </tr>\n",
       "  </thead>\n",
       "  <tbody>\n",
       "    <tr>\n",
       "      <th>2021-01-01</th>\n",
       "      <td>2.911152</td>\n",
       "      <td>2.912109</td>\n",
       "    </tr>\n",
       "    <tr>\n",
       "      <th>2021-01-02</th>\n",
       "      <td>2.933361</td>\n",
       "      <td>2.947156</td>\n",
       "    </tr>\n",
       "    <tr>\n",
       "      <th>2021-01-03</th>\n",
       "      <td>3.215417</td>\n",
       "      <td>2.982025</td>\n",
       "    </tr>\n",
       "    <tr>\n",
       "      <th>2021-01-04</th>\n",
       "      <td>3.300254</td>\n",
       "      <td>3.016717</td>\n",
       "    </tr>\n",
       "    <tr>\n",
       "      <th>2021-01-05</th>\n",
       "      <td>3.143161</td>\n",
       "      <td>3.051233</td>\n",
       "    </tr>\n",
       "    <tr>\n",
       "      <th>...</th>\n",
       "      <td>...</td>\n",
       "      <td>...</td>\n",
       "    </tr>\n",
       "    <tr>\n",
       "      <th>2021-05-18</th>\n",
       "      <td>4.314447</td>\n",
       "      <td>6.378882</td>\n",
       "    </tr>\n",
       "    <tr>\n",
       "      <th>2021-05-19</th>\n",
       "      <td>4.319605</td>\n",
       "      <td>6.396343</td>\n",
       "    </tr>\n",
       "    <tr>\n",
       "      <th>2021-05-20</th>\n",
       "      <td>3.943924</td>\n",
       "      <td>6.413715</td>\n",
       "    </tr>\n",
       "    <tr>\n",
       "      <th>2021-05-21</th>\n",
       "      <td>3.975609</td>\n",
       "      <td>6.430998</td>\n",
       "    </tr>\n",
       "    <tr>\n",
       "      <th>2021-05-22</th>\n",
       "      <td>3.692177</td>\n",
       "      <td>6.448194</td>\n",
       "    </tr>\n",
       "  </tbody>\n",
       "</table>\n",
       "<p>142 rows × 2 columns</p>\n",
       "</div>"
      ],
      "text/plain": [
       "            Closing_Price     ARIMA\n",
       "Date                               \n",
       "2021-01-01       2.911152  2.912109\n",
       "2021-01-02       2.933361  2.947156\n",
       "2021-01-03       3.215417  2.982025\n",
       "2021-01-04       3.300254  3.016717\n",
       "2021-01-05       3.143161  3.051233\n",
       "...                   ...       ...\n",
       "2021-05-18       4.314447  6.378882\n",
       "2021-05-19       4.319605  6.396343\n",
       "2021-05-20       3.943924  6.413715\n",
       "2021-05-21       3.975609  6.430998\n",
       "2021-05-22       3.692177  6.448194\n",
       "\n",
       "[142 rows x 2 columns]"
      ]
     },
     "execution_count": 16,
     "metadata": {},
     "output_type": "execute_result"
    }
   ],
   "source": [
    "test['ARIMA'] = arima_model.predict(len(test))\n",
    "\n",
    "test"
   ]
  },
  {
   "cell_type": "code",
   "execution_count": 17,
   "metadata": {},
   "outputs": [
    {
     "data": {
      "text/plain": [
       "11.298118480382021"
      ]
     },
     "execution_count": 17,
     "metadata": {},
     "output_type": "execute_result"
    }
   ],
   "source": [
    "#MAPE\n",
    "mean_absolute_percentage_error(test.Closing_Price, test.ARIMA)"
   ]
  },
  {
   "cell_type": "code",
   "execution_count": 26,
   "metadata": {},
   "outputs": [
    {
     "data": {
      "text/plain": [
       "0.5679514603748451"
      ]
     },
     "execution_count": 26,
     "metadata": {},
     "output_type": "execute_result"
    }
   ],
   "source": [
    "#MAE\n",
    "from sklearn.metrics import mean_absolute_error\n",
    "mean_absolute_error(test.Closing_Price,  test.ARIMA)"
   ]
  },
  {
   "cell_type": "code",
   "execution_count": 27,
   "metadata": {},
   "outputs": [
    {
     "data": {
      "text/plain": [
       "0.7924078165161859"
      ]
     },
     "execution_count": 27,
     "metadata": {},
     "output_type": "execute_result"
    }
   ],
   "source": [
    "#MSE\n",
    "from sklearn.metrics import mean_squared_error\n",
    "mean_squared_error(test.Closing_Price,  test.ARIMA)"
   ]
  },
  {
   "cell_type": "code",
   "execution_count": 18,
   "metadata": {},
   "outputs": [],
   "source": [
    "# multi-step out-of-sample forecast\n",
    "\n",
    "forecast = arima_model.predict(len(test))"
   ]
  },
  {
   "cell_type": "code",
   "execution_count": 19,
   "metadata": {},
   "outputs": [
    {
     "data": {
      "text/plain": [
       "array([2.91210915, 2.94715599, 2.98202504, 3.01671721, 3.05123338,\n",
       "       3.08557446, 3.11974134, 3.15373489, 3.18755599, 3.22120553,\n",
       "       3.25468437, 3.28799337, 3.3211334 , 3.35410532, 3.38690997,\n",
       "       3.41954822, 3.45202089, 3.48432883, 3.51647289, 3.54845387,\n",
       "       3.58027263, 3.61192997, 3.64342672, 3.67476369, 3.70594169,\n",
       "       3.73696153, 3.76782402, 3.79852994, 3.82908009, 3.85947527,\n",
       "       3.88971626, 3.91980384, 3.94973879, 3.97952188, 4.00915389,\n",
       "       4.03863558, 4.06796771, 4.09715105, 4.12618634, 4.15507435,\n",
       "       4.1838158 , 4.21241146, 4.24086205, 4.26916832, 4.297331  ,\n",
       "       4.3253508 , 4.35322847, 4.38096472, 4.40856027, 4.43601583,\n",
       "       4.46333211, 4.49050982, 4.51754967, 4.54445234, 4.57121854,\n",
       "       4.59784896, 4.62434428, 4.6507052 , 4.67693239, 4.70302654,\n",
       "       4.72898832, 4.75481839, 4.78051743, 4.80608611, 4.83152508,\n",
       "       4.856835  , 4.88201653, 4.90707031, 4.931997  , 4.95679725,\n",
       "       4.98147168, 5.00602094, 5.03044567, 5.0547465 , 5.07892405,\n",
       "       5.10297895, 5.12691183, 5.1507233 , 5.17441397, 5.19798447,\n",
       "       5.22143539, 5.24476736, 5.26798096, 5.2910768 , 5.31405549,\n",
       "       5.3369176 , 5.35966374, 5.38229449, 5.40481044, 5.42721217,\n",
       "       5.44950025, 5.47167528, 5.49373781, 5.51568842, 5.53752768,\n",
       "       5.55925616, 5.5808744 , 5.60238298, 5.62378246, 5.64507337,\n",
       "       5.66625628, 5.68733173, 5.70830027, 5.72916244, 5.74991878,\n",
       "       5.77056982, 5.79111611, 5.81155816, 5.83189652, 5.8521317 ,\n",
       "       5.87226423, 5.89229464, 5.91222343, 5.93205113, 5.95177824,\n",
       "       5.97140528, 5.99093275, 6.01036117, 6.02969103, 6.04892283,\n",
       "       6.06805707, 6.08709424, 6.10603484, 6.12487936, 6.14362829,\n",
       "       6.1622821 , 6.18084129, 6.19930632, 6.21767769, 6.23595586,\n",
       "       6.25414131, 6.27223451, 6.29023592, 6.30814601, 6.32596525,\n",
       "       6.3436941 , 6.361333  , 6.37888243, 6.39634284, 6.41371467,\n",
       "       6.43099837, 6.4481944 ])"
      ]
     },
     "execution_count": 19,
     "metadata": {},
     "output_type": "execute_result"
    }
   ],
   "source": [
    "forecast"
   ]
  },
  {
   "cell_type": "code",
   "execution_count": 20,
   "metadata": {},
   "outputs": [
    {
     "data": {
      "image/png": "[encoded data removed]",
      "text/plain": [
       "<Figure size 432x288 with 1 Axes>"
      ]
     },
     "metadata": {
      "needs_background": "light"
     },
     "output_type": "display_data"
    }
   ],
   "source": [
    "x = np.arange(df.shape[0])\n",
    "plt.plot(x[:225], train, c='blue')\n",
    "plt.plot(x[225:], forecast, c='red')\n",
    "plt.plot(x[225:], test, c='green')\n",
    "plt.show()"
   ]
  },
  {
   "cell_type": "code",
   "execution_count": 21,
   "metadata": {},
   "outputs": [],
   "source": [
    "test = test.append({'Closing_Price':0},ignore_index=True)"
   ]
  },
  {
   "cell_type": "code",
   "execution_count": 22,
   "metadata": {},
   "outputs": [
    {
     "data": {
      "text/html": [
       "<div>\n",
       "<style scoped>\n",
       "    .dataframe tbody tr th:only-of-type {\n",
       "        vertical-align: middle;\n",
       "    }\n",
       "\n",
       "    .dataframe tbody tr th {\n",
       "        vertical-align: top;\n",
       "    }\n",
       "\n",
       "    .dataframe thead th {\n",
       "        text-align: right;\n",
       "    }\n",
       "</style>\n",
       "<table border=\"1\" class=\"dataframe\">\n",
       "  <thead>\n",
       "    <tr style=\"text-align: right;\">\n",
       "      <th></th>\n",
       "      <th>Closing_Price</th>\n",
       "      <th>ARIMA</th>\n",
       "    </tr>\n",
       "  </thead>\n",
       "  <tbody>\n",
       "    <tr>\n",
       "      <th>0</th>\n",
       "      <td>2.911152</td>\n",
       "      <td>2.912109</td>\n",
       "    </tr>\n",
       "    <tr>\n",
       "      <th>1</th>\n",
       "      <td>2.933361</td>\n",
       "      <td>2.947156</td>\n",
       "    </tr>\n",
       "    <tr>\n",
       "      <th>2</th>\n",
       "      <td>3.215417</td>\n",
       "      <td>2.982025</td>\n",
       "    </tr>\n",
       "    <tr>\n",
       "      <th>3</th>\n",
       "      <td>3.300254</td>\n",
       "      <td>3.016717</td>\n",
       "    </tr>\n",
       "    <tr>\n",
       "      <th>4</th>\n",
       "      <td>3.143161</td>\n",
       "      <td>3.051233</td>\n",
       "    </tr>\n",
       "    <tr>\n",
       "      <th>...</th>\n",
       "      <td>...</td>\n",
       "      <td>...</td>\n",
       "    </tr>\n",
       "    <tr>\n",
       "      <th>138</th>\n",
       "      <td>4.319605</td>\n",
       "      <td>6.396343</td>\n",
       "    </tr>\n",
       "    <tr>\n",
       "      <th>139</th>\n",
       "      <td>3.943924</td>\n",
       "      <td>6.413715</td>\n",
       "    </tr>\n",
       "    <tr>\n",
       "      <th>140</th>\n",
       "      <td>3.975609</td>\n",
       "      <td>6.430998</td>\n",
       "    </tr>\n",
       "    <tr>\n",
       "      <th>141</th>\n",
       "      <td>3.692177</td>\n",
       "      <td>6.448194</td>\n",
       "    </tr>\n",
       "    <tr>\n",
       "      <th>142</th>\n",
       "      <td>0.000000</td>\n",
       "      <td>NaN</td>\n",
       "    </tr>\n",
       "  </tbody>\n",
       "</table>\n",
       "<p>143 rows × 2 columns</p>\n",
       "</div>"
      ],
      "text/plain": [
       "     Closing_Price     ARIMA\n",
       "0         2.911152  2.912109\n",
       "1         2.933361  2.947156\n",
       "2         3.215417  2.982025\n",
       "3         3.300254  3.016717\n",
       "4         3.143161  3.051233\n",
       "..             ...       ...\n",
       "138       4.319605  6.396343\n",
       "139       3.943924  6.413715\n",
       "140       3.975609  6.430998\n",
       "141       3.692177  6.448194\n",
       "142       0.000000       NaN\n",
       "\n",
       "[143 rows x 2 columns]"
      ]
     },
     "execution_count": 22,
     "metadata": {},
     "output_type": "execute_result"
    }
   ],
   "source": [
    "test"
   ]
  },
  {
   "cell_type": "code",
   "execution_count": 23,
   "metadata": {},
   "outputs": [],
   "source": [
    "test['ARIMA'] = arima_model.predict(len(test))"
   ]
  },
  {
   "cell_type": "code",
   "execution_count": 24,
   "metadata": {},
   "outputs": [
    {
     "data": {
      "text/html": [
       "<div>\n",
       "<style scoped>\n",
       "    .dataframe tbody tr th:only-of-type {\n",
       "        vertical-align: middle;\n",
       "    }\n",
       "\n",
       "    .dataframe tbody tr th {\n",
       "        vertical-align: top;\n",
       "    }\n",
       "\n",
       "    .dataframe thead th {\n",
       "        text-align: right;\n",
       "    }\n",
       "</style>\n",
       "<table border=\"1\" class=\"dataframe\">\n",
       "  <thead>\n",
       "    <tr style=\"text-align: right;\">\n",
       "      <th></th>\n",
       "      <th>Closing_Price</th>\n",
       "      <th>ARIMA</th>\n",
       "    </tr>\n",
       "  </thead>\n",
       "  <tbody>\n",
       "    <tr>\n",
       "      <th>0</th>\n",
       "      <td>2.911152</td>\n",
       "      <td>2.912109</td>\n",
       "    </tr>\n",
       "    <tr>\n",
       "      <th>1</th>\n",
       "      <td>2.933361</td>\n",
       "      <td>2.947156</td>\n",
       "    </tr>\n",
       "    <tr>\n",
       "      <th>2</th>\n",
       "      <td>3.215417</td>\n",
       "      <td>2.982025</td>\n",
       "    </tr>\n",
       "    <tr>\n",
       "      <th>3</th>\n",
       "      <td>3.300254</td>\n",
       "      <td>3.016717</td>\n",
       "    </tr>\n",
       "    <tr>\n",
       "      <th>4</th>\n",
       "      <td>3.143161</td>\n",
       "      <td>3.051233</td>\n",
       "    </tr>\n",
       "    <tr>\n",
       "      <th>...</th>\n",
       "      <td>...</td>\n",
       "      <td>...</td>\n",
       "    </tr>\n",
       "    <tr>\n",
       "      <th>138</th>\n",
       "      <td>4.319605</td>\n",
       "      <td>6.396343</td>\n",
       "    </tr>\n",
       "    <tr>\n",
       "      <th>139</th>\n",
       "      <td>3.943924</td>\n",
       "      <td>6.413715</td>\n",
       "    </tr>\n",
       "    <tr>\n",
       "      <th>140</th>\n",
       "      <td>3.975609</td>\n",
       "      <td>6.430998</td>\n",
       "    </tr>\n",
       "    <tr>\n",
       "      <th>141</th>\n",
       "      <td>3.692177</td>\n",
       "      <td>6.448194</td>\n",
       "    </tr>\n",
       "    <tr>\n",
       "      <th>142</th>\n",
       "      <td>0.000000</td>\n",
       "      <td>6.465303</td>\n",
       "    </tr>\n",
       "  </tbody>\n",
       "</table>\n",
       "<p>143 rows × 2 columns</p>\n",
       "</div>"
      ],
      "text/plain": [
       "     Closing_Price     ARIMA\n",
       "0         2.911152  2.912109\n",
       "1         2.933361  2.947156\n",
       "2         3.215417  2.982025\n",
       "3         3.300254  3.016717\n",
       "4         3.143161  3.051233\n",
       "..             ...       ...\n",
       "138       4.319605  6.396343\n",
       "139       3.943924  6.413715\n",
       "140       3.975609  6.430998\n",
       "141       3.692177  6.448194\n",
       "142       0.000000  6.465303\n",
       "\n",
       "[143 rows x 2 columns]"
      ]
     },
     "execution_count": 24,
     "metadata": {},
     "output_type": "execute_result"
    }
   ],
   "source": [
    "test"
   ]
  }
 ],
 "metadata": {
  "kernelspec": {
   "display_name": "Python 3",
   "language": "python",
   "name": "python3"
  },
  "language_info": {
   "codemirror_mode": {
    "name": "ipython",
    "version": 3
   },
   "file_extension": ".py",
   "mimetype": "text/x-python",
   "name": "python",
   "nbconvert_exporter": "python",
   "pygments_lexer": "ipython3",
   "version": "3.8.2"
  }
 },
 "nbformat": 4,
 "nbformat_minor": 4
}
